{
 "cells": [
  {
   "cell_type": "markdown",
   "id": "35cbb09d",
   "metadata": {},
   "source": [
    "plt.rcParams[\"font.sans-serif\"] = [\"SimHei\"]\n",
    "\n",
    "设置全局字体为“黑体”，解决 中文显示。rcParams 是全局配置字典。\n",
    "\n",
    "plt.rcParams[\"axes.unicode_minus\"] = False\n",
    "\n",
    "允许坐标轴正常显示 负号（否则会变方块）。\n",
    "\n",
    "ax.legend(loc=\"best\")\n",
    "\n",
    "绘制图例；loc=\"best\" 自动找不遮挡的位置（也可用 \"upper right\" 等）。\n",
    "\n",
    "fig.tight_layout()\n",
    "\n",
    "让子图/文字自动留白，避免被裁切或重叠。\n",
    "\n",
    "fig.savefig(\"mcm_line.pdf\", dpi=300, bbox_inches=\"tight\")\n",
    "\n",
    "保存图像。\n",
    "\n",
    "建议论文/答辩用 PDF/SVG（矢量）；若要 PNG 用 dpi>=300。\n",
    "\n",
    "bbox_inches=\"tight\" 再次压紧四周空白，导出更干净。"
   ]
  },
  {
   "cell_type": "code",
   "execution_count": null,
   "id": "accf1c8f",
   "metadata": {},
   "outputs": [],
   "source": []
  }
 ],
 "metadata": {
  "kernelspec": {
   "display_name": ".venv (3.13.1)",
   "language": "python",
   "name": "python3"
  },
  "language_info": {
   "codemirror_mode": {
    "name": "ipython",
    "version": 3
   },
   "file_extension": ".py",
   "mimetype": "text/x-python",
   "name": "python",
   "nbconvert_exporter": "python",
   "pygments_lexer": "ipython3",
   "version": "3.13.1"
  }
 },
 "nbformat": 4,
 "nbformat_minor": 5
}
