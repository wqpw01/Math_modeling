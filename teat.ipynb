{
 "cells": [
  {
   "cell_type": "code",
   "execution_count": 11,
   "id": "f2adc8a5",
   "metadata": {},
   "outputs": [],
   "source": [
    "# import matplotlib as mpl\n",
    "# import matplotlib.pyplot as plt\n",
    "\n",
    "# def set_pub_style():\n",
    "#     mpl.rcParams.update({\n",
    "#         # 字体（中文 + 负号）\n",
    "#         \"font.sans-serif\": [\"SimHei\"],   # 黑体显示中文\n",
    "#         \"axes.unicode_minus\": False,     # 解决负号显示为方块\n",
    "\n",
    "#         # 字体大小\n",
    "#         \"font.size\": 11,\n",
    "#         \"axes.labelsize\": 12,\n",
    "#         \"axes.titlesize\": 13,\n",
    "\n",
    "#         # 线条\n",
    "#         \"lines.linewidth\": 2.0,\n",
    "#         \"lines.markersize\": 6,\n",
    "\n",
    "#         # 坐标轴\n",
    "#         \"axes.spines.top\": False,\n",
    "#         \"axes.spines.right\": False,\n",
    "#         \"axes.grid\": True,\n",
    "#         \"grid.linestyle\": \"--\",\n",
    "#         \"grid.alpha\": 0.5,\n",
    "\n",
    "#         # 图例\n",
    "#         \"legend.frameon\": False,\n",
    "#         \"legend.fontsize\": 10,\n",
    "\n",
    "#         # 输出图像质量\n",
    "#         \"figure.dpi\": 120,\n",
    "#         \"savefig.dpi\": 300,\n",
    "#         \"savefig.format\": \"pdf\",\n",
    "#         \"savefig.bbox\": \"tight\",\n",
    "#     })\n"
   ]
  }
 ],
 "metadata": {
  "kernelspec": {
   "display_name": ".venv (3.13.1)",
   "language": "python",
   "name": "python3"
  },
  "language_info": {
   "codemirror_mode": {
    "name": "ipython",
    "version": 3
   },
   "file_extension": ".py",
   "mimetype": "text/x-python",
   "name": "python",
   "nbconvert_exporter": "python",
   "pygments_lexer": "ipython3",
   "version": "3.13.1"
  }
 },
 "nbformat": 4,
 "nbformat_minor": 5
}
